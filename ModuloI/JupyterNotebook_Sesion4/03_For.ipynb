{
 "cells": [
  {
   "cell_type": "code",
   "execution_count": 5,
   "id": "1c315d09",
   "metadata": {},
   "outputs": [
    {
     "name": "stdout",
     "output_type": "stream",
     "text": [
      "Inicio bucle for\n",
      "Paso 0\n",
      "Paso 1\n",
      "Paso 2\n",
      "Final del bucle for\n"
     ]
    }
   ],
   "source": [
    "print('Inicio bucle for')\n",
    "for i in [0,1,2]:\n",
    "    print('Paso {}'.format(i))   \n",
    "print('Final del bucle for')\n"
   ]
  },
  {
   "cell_type": "code",
   "execution_count": 6,
   "id": "4caa67c2",
   "metadata": {},
   "outputs": [
    {
     "name": "stdout",
     "output_type": "stream",
     "text": [
      "Lista del mercado\n",
      "Elementos de la lista del mercado: Arroz\n",
      "Elementos de la lista del mercado: Papa\n",
      "Elementos de la lista del mercado: Lechuga\n",
      "Fin de la lista\n"
     ]
    }
   ],
   "source": [
    "print('Lista del mercado')\n",
    "for i in ['Arroz', 'Papa', 'Lechuga']:\n",
    "    print('Elementos de la lista del mercado: {}'.format(i))\n",
    "print('Fin de la lista')"
   ]
  },
  {
   "cell_type": "code",
   "execution_count": null,
   "id": "dad48d94",
   "metadata": {},
   "outputs": [],
   "source": []
  }
 ],
 "metadata": {
  "kernelspec": {
   "display_name": "Python 3 (ipykernel)",
   "language": "python",
   "name": "python3"
  },
  "language_info": {
   "codemirror_mode": {
    "name": "ipython",
    "version": 3
   },
   "file_extension": ".py",
   "mimetype": "text/x-python",
   "name": "python",
   "nbconvert_exporter": "python",
   "pygments_lexer": "ipython3",
   "version": "3.10.8"
  }
 },
 "nbformat": 4,
 "nbformat_minor": 5
}
