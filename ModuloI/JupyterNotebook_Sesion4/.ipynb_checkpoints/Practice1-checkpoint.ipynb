{
 "cells": [
  {
   "cell_type": "code",
   "execution_count": null,
   "id": "2451161f",
   "metadata": {},
   "outputs": [
    {
     "name": "stdout",
     "output_type": "stream",
     "text": [
      "============= DATOS DE ENTRADA ==================\n"
     ]
    }
   ],
   "source": [
    "print(\"============= DATOS DE ENTRADA ==================\")\n",
    "Nombre = input(\"¿Ingrese su nombre?\\n\")\n",
    "Apellido = input(\"¿Ingrese su apellido?\\n\")\n",
    "Edad = int(input(\"¿Ingrese su edad?\\n\"))\n",
    "\n",
    "print(\"================= PROGRAMA =======================\")\n",
    "if (Edad < 18):\n",
    "    print(f\"Estimado(a) {Nombre}, usted es menor de edad\")\n",
    "elif (Edad >= 18) and (Edad < 41):\n",
    "    print(f\"Estimado(a) {Nombre}, usted es un joven\")\n",
    "elif (Edad >= 41) and (Edad <= 65):\n",
    "    print(f\"Estimado(a) {Nombre}, usted es un adulto\")\n",
    "else:\n",
    "    print(f\"Estimado(a) {Nombre}, usted es un adulto mayor\")\n"
   ]
  },
  {
   "cell_type": "code",
   "execution_count": null,
   "id": "446a79b8",
   "metadata": {},
   "outputs": [],
   "source": []
  }
 ],
 "metadata": {
  "kernelspec": {
   "display_name": "Python 3 (ipykernel)",
   "language": "python",
   "name": "python3"
  },
  "language_info": {
   "codemirror_mode": {
    "name": "ipython",
    "version": 3
   },
   "file_extension": ".py",
   "mimetype": "text/x-python",
   "name": "python",
   "nbconvert_exporter": "python",
   "pygments_lexer": "ipython3",
   "version": "3.10.8"
  }
 },
 "nbformat": 4,
 "nbformat_minor": 5
}
