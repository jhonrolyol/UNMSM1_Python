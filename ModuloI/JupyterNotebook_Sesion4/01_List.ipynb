{
 "cells": [
  {
   "cell_type": "code",
   "execution_count": 15,
   "id": "ce23a1f8",
   "metadata": {},
   "outputs": [
    {
     "name": "stdout",
     "output_type": "stream",
     "text": [
      "[1, 2, 3, 4]\n"
     ]
    }
   ],
   "source": [
    "Lista1 = [1,2,3,4]\n",
    "print(Lista1)"
   ]
  },
  {
   "cell_type": "code",
   "execution_count": 16,
   "id": "2cb08095",
   "metadata": {},
   "outputs": [
    {
     "name": "stdout",
     "output_type": "stream",
     "text": [
      "['1', '2', '3', '4']\n"
     ]
    }
   ],
   "source": [
    "Lista2 = list(\"1234\")\n",
    "print(Lista2)"
   ]
  },
  {
   "cell_type": "code",
   "execution_count": 17,
   "id": "822ff2eb",
   "metadata": {},
   "outputs": [
    {
     "name": "stdout",
     "output_type": "stream",
     "text": [
      "[1, 'Juan', 3.1415, [1, 2]]\n"
     ]
    }
   ],
   "source": [
    "Lista3 = [1,\"Juan\",3.1415,[1,2]]\n",
    "print(Lista3)"
   ]
  },
  {
   "cell_type": "code",
   "execution_count": 18,
   "id": "98752bf5",
   "metadata": {},
   "outputs": [
    {
     "name": "stdout",
     "output_type": "stream",
     "text": [
      "Juan\n",
      "[1, 2]\n",
      "[1, 2]\n",
      "3.1415\n"
     ]
    }
   ],
   "source": [
    "# Ubicar un elemento de la lista con índice\n",
    "print(Lista3[1])\n",
    "print(Lista3[3])\n",
    "print(Lista3[-1])\n",
    "print(Lista3[-2])"
   ]
  },
  {
   "cell_type": "code",
   "execution_count": 19,
   "id": "a14d010d",
   "metadata": {},
   "outputs": [
    {
     "name": "stdout",
     "output_type": "stream",
     "text": [
      "[1, 3.1415, [1, 2]]\n",
      "3.1415\n"
     ]
    }
   ],
   "source": [
    "# Borrar un elemento de la lista con índice\n",
    "del Lista3[1]\n",
    "print(Lista3)\n",
    "print(Lista3[1])"
   ]
  },
  {
   "cell_type": "code",
   "execution_count": 22,
   "id": "c65f5ff2",
   "metadata": {},
   "outputs": [
    {
     "name": "stdout",
     "output_type": "stream",
     "text": [
      "1\n"
     ]
    }
   ],
   "source": [
    "# Acceder al elemento de una lista que está dentro de otra lista.\n",
    "print(Lista3[2][0]) "
   ]
  },
  {
   "cell_type": "code",
   "execution_count": 23,
   "id": "121f19cd",
   "metadata": {},
   "outputs": [
    {
     "name": "stdout",
     "output_type": "stream",
     "text": [
      "[1, 2]\n"
     ]
    }
   ],
   "source": [
    "Lista4 = [1,2,3,4,5,6]\n",
    "print(Lista4[0:2]) # Muestra hasta antes de la ubicación 2.\n"
   ]
  },
  {
   "cell_type": "code",
   "execution_count": 24,
   "id": "188ff1f1",
   "metadata": {},
   "outputs": [
    {
     "name": "stdout",
     "output_type": "stream",
     "text": [
      "[3, 4]\n"
     ]
    }
   ],
   "source": [
    "print(Lista4[2:4])"
   ]
  },
  {
   "cell_type": "code",
   "execution_count": 25,
   "id": "367d80b4",
   "metadata": {},
   "outputs": [
    {
     "name": "stdout",
     "output_type": "stream",
     "text": [
      "[10, 20, 30, 40, 5, 6]\n"
     ]
    }
   ],
   "source": [
    "Lista4[0:4] = [10,20,30,40] # Remplazar con nuevos valores.\n",
    "print(Lista4)"
   ]
  },
  {
   "cell_type": "code",
   "execution_count": null,
   "id": "d7a1611a",
   "metadata": {},
   "outputs": [],
   "source": []
  }
 ],
 "metadata": {
  "kernelspec": {
   "display_name": "Python 3 (ipykernel)",
   "language": "python",
   "name": "python3"
  },
  "language_info": {
   "codemirror_mode": {
    "name": "ipython",
    "version": 3
   },
   "file_extension": ".py",
   "mimetype": "text/x-python",
   "name": "python",
   "nbconvert_exporter": "python",
   "pygments_lexer": "ipython3",
   "version": "3.10.8"
  }
 },
 "nbformat": 4,
 "nbformat_minor": 5
}
