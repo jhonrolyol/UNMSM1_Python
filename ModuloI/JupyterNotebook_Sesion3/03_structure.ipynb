{
 "cells": [
  {
   "cell_type": "code",
   "execution_count": null,
   "id": "3666526e",
   "metadata": {},
   "outputs": [],
   "source": [
    "x = input('Ingrese un numero del 1 al 5:')\n",
    "x = int(x)\n",
    "if x == 5:\n",
    "\tprint(\"El número es 5\")\n",
    "else:\n",
    "  print(\"El número no es 5\")\n"
   ]
  },
  {
   "cell_type": "code",
   "execution_count": null,
   "id": "5aeaca2e",
   "metadata": {},
   "outputs": [],
   "source": [
    "# Ejercicio\n",
    "# Hacer un sistema de entrada para que brinde acceso a personas, \n",
    "# en caso de ser menor de edad debe prohibirle el ingreso.\n",
    "# Variables de entrada:\n",
    "# 1.- Nombre\n",
    "# 2.- DNI\n",
    "# 3.- Edad\n",
    "# Un mensaje de autorización o prohibición.\n"
   ]
  },
  {
   "cell_type": "code",
   "execution_count": null,
   "id": "54abe047",
   "metadata": {},
   "outputs": [],
   "source": [
    "# Variables de entrada\n",
    "\n",
    "Nombre = input(\"¿Ingrese su nombre?\\n\")\n",
    "DNI = int(input(\"¿Ingrese su número de DNI?\\n\"))\n",
    "Edad = int(input(\"¿Ingrese su edad?\\n\"))\n",
    "print(\"====================\")\n",
    "\n",
    "if Edad < 18 :\n",
    "\tprint(\"====================\")\n",
    "\tprint(\"No puede ingresar\")\n",
    "else:\n",
    "\tprint(\"====================\")\n",
    "\tprint(\"Puede ingresar\")\n",
    "\n"
   ]
  },
  {
   "cell_type": "code",
   "execution_count": null,
   "id": "d19e8aeb",
   "metadata": {},
   "outputs": [],
   "source": [
    "\n",
    "# EJEMPLO\n",
    "# CREAR UN PROGRAMA QUE INSERTE DOS NÚMEROS Y\n",
    "# COMPARE CUAL DE ELLOS ES MAYOR O SI SON\n",
    "# IGUALES. DEBE INDICAR CUAL ES MAYOR RESPECTO AL OTRO.\n",
    "\n",
    "\n",
    "num1 = input('Ingresar el valor del primer número:')\n",
    "num1 = int(num1)\n",
    "num2 = input('Ingresar el valor del segundo número:')\n",
    "num2 = int(num2)\n",
    "print(\"========================================\")\n",
    "# Comparación \n",
    "if num1 == num2:\n",
    "\tprint('Los números son iguales y ese número es : {}'.format(num1))\n",
    "elif num1\t< num2:\n",
    "  print(f'El número {num2} es mayor al número {num1}')\n",
    "else:\n",
    "\tprint(f'El número ', num1, 'es mayor al número', num2)\n"
   ]
  },
  {
   "cell_type": "code",
   "execution_count": null,
   "id": "17a847d2",
   "metadata": {},
   "outputs": [],
   "source": [
    "# EJERCICIO\n",
    "'''\n",
    "CREAR UN PROGRAMA QUE PIDA AL USUARIO SU NOMBRE Y \n",
    "SU EDAD. \n",
    "LAS CONDICIONES SON:\n",
    "1.- SI LA PERSONA ES MENOR A 18 DE AÑOS, DEBE SOLICITARLE SU CARNÉ CON 1 DOSIS.\n",
    "2.- SI LA PERSONA TIENE ENTRE 18 A 60 AÑOS, DEBE SOLICITARLE SU CARNÉ CON DOS DOSIS.\n",
    "3.- SI LA PERSONA TIENE SU EDAD MAYOR A 60 AÑOS,\n",
    "DEBE SOLICITARLE SU CARNÉ CON LAS TRES DOSIS.\n",
    "'''\n"
   ]
  },
  {
   "cell_type": "code",
   "execution_count": null,
   "id": "14360db6",
   "metadata": {},
   "outputs": [],
   "source": [
    "print(\"====== BIENVENIDO AL PROGRAMA ======\")\n",
    "\n",
    "Nombre = input(\"¿Digite su nombre:?\\n\")\n",
    "Edad = int(input(\"¿Digite su edad?\\n\"))\n",
    "\n",
    "if (Edad < 18):\n",
    "    print('Por favor, muestre su carné con una dosis')\n",
    "elif (Edad >= 18 and Edad <= 60):\n",
    "    print('Por favor, muestre su carné con dos dosis')\n",
    "elif (Edad > 60 and Edad <= 120):\n",
    "    print('Por favor, muestre su carné con tres dosis')\n",
    "else:\n",
    "    print('Colocar un número válido')"
   ]
  }
 ],
 "metadata": {
  "kernelspec": {
   "display_name": "Python 3 (ipykernel)",
   "language": "python",
   "name": "python3"
  },
  "language_info": {
   "codemirror_mode": {
    "name": "ipython",
    "version": 3
   },
   "file_extension": ".py",
   "mimetype": "text/x-python",
   "name": "python",
   "nbconvert_exporter": "python",
   "pygments_lexer": "ipython3",
   "version": "3.10.8"
  }
 },
 "nbformat": 4,
 "nbformat_minor": 5
}
