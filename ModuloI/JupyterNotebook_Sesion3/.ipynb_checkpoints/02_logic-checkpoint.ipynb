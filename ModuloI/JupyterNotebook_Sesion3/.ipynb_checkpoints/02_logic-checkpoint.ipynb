{
 "cells": [
  {
   "cell_type": "code",
   "execution_count": null,
   "id": "1d6538ef",
   "metadata": {},
   "outputs": [],
   "source": [
    "# AND\n",
    "print('AND')\n",
    "print('True and True =>', True and True)\n",
    "print('True and False =>', True and False)\n",
    "print('False and True =>', False and True)\n",
    "print('False and False =>', False and False)"
   ]
  },
  {
   "cell_type": "code",
   "execution_count": null,
   "id": "00622403",
   "metadata": {},
   "outputs": [],
   "source": [
    "# OR\n",
    "print('OR')\n",
    "print('True or True =>', True or True)\n",
    "print('True or False =>', True or False)\n",
    "print('False or True =>', False or True)\n",
    "print('False or False =>', False or False)"
   ]
  },
  {
   "cell_type": "code",
   "execution_count": null,
   "id": "34169cf4",
   "metadata": {},
   "outputs": [],
   "source": [
    "# Ejemplo\n",
    "#role = input(\"Digite el rol =>\")\n",
    "#print(role == 'admin' or role == 'jefe')\n",
    "#print('Puede ingresar')\n",
    "\n",
    "stock = input('Ingrese el número de stock =>')\n",
    "stock = int(stock)\n",
    "\n",
    "print(stock >= 100 and stock <= 500)\n"
   ]
  }
 ],
 "metadata": {
  "kernelspec": {
   "display_name": "Python 3 (ipykernel)",
   "language": "python",
   "name": "python3"
  },
  "language_info": {
   "codemirror_mode": {
    "name": "ipython",
    "version": 3
   },
   "file_extension": ".py",
   "mimetype": "text/x-python",
   "name": "python",
   "nbconvert_exporter": "python",
   "pygments_lexer": "ipython3",
   "version": "3.10.8"
  }
 },
 "nbformat": 4,
 "nbformat_minor": 5
}
