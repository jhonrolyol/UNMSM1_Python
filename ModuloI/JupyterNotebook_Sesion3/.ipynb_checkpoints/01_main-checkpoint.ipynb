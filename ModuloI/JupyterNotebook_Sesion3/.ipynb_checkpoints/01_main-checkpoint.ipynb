{
 "cells": [
  {
   "cell_type": "code",
   "execution_count": null,
   "id": "a7322063",
   "metadata": {},
   "outputs": [],
   "source": [
    "Nombre = input(\"¿Cuál es tu nombre?\\n\")\n",
    "print(\"Tu nombre es: \", Nombre)"
   ]
  },
  {
   "cell_type": "code",
   "execution_count": null,
   "id": "6bee2913",
   "metadata": {},
   "outputs": [],
   "source": [
    "x = 2 # 0010\n",
    "y = 3 # 0011"
   ]
  },
  {
   "cell_type": "code",
   "execution_count": null,
   "id": "eda9d4cd",
   "metadata": {},
   "outputs": [],
   "source": [
    "print(x & y )"
   ]
  },
  {
   "cell_type": "code",
   "execution_count": null,
   "id": "1e688996",
   "metadata": {},
   "outputs": [],
   "source": [
    "print(type(x & y))"
   ]
  },
  {
   "cell_type": "code",
   "execution_count": null,
   "id": "52ec0779",
   "metadata": {},
   "outputs": [],
   "source": [
    "# PREPARANDO EL ALMUERZO\n",
    "poner_agua_hervir()\n",
    "echar_arroz_hervir()\n",
    "cortar_pollo()\n",
    "freir_pollo()\n",
    "mezclar_pollo_arroz()\n"
   ]
  },
  {
   "cell_type": "code",
   "execution_count": null,
   "id": "6d83a591",
   "metadata": {},
   "outputs": [],
   "source": [
    "# VEGETARIANO\n",
    "poner_agua_hervir()\n",
    "echar_arroz_hervir()\n"
   ]
  },
  {
   "cell_type": "code",
   "execution_count": null,
   "id": "d9268208",
   "metadata": {},
   "outputs": [],
   "source": [
    "# NO VEGETARIANO\n",
    "poner_agua_hervir()\n",
    "echar_arroz_hervir()\n",
    "cortar_pollo()\n",
    "freir_pollo()\n",
    "mezclar_pollo_arroz()"
   ]
  }
 ],
 "metadata": {
  "kernelspec": {
   "display_name": "Python 3 (ipykernel)",
   "language": "python",
   "name": "python3"
  },
  "language_info": {
   "codemirror_mode": {
    "name": "ipython",
    "version": 3
   },
   "file_extension": ".py",
   "mimetype": "text/x-python",
   "name": "python",
   "nbconvert_exporter": "python",
   "pygments_lexer": "ipython3",
   "version": "3.10.8"
  }
 },
 "nbformat": 4,
 "nbformat_minor": 5
}
