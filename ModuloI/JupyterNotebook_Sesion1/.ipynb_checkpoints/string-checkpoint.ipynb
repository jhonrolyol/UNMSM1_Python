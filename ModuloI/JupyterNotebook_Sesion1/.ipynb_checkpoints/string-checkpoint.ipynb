{
 "cells": [
  {
   "cell_type": "code",
   "execution_count": 1,
   "id": "90085b23",
   "metadata": {},
   "outputs": [],
   "source": [
    "Quote = \"I'm Jhon Roly\""
   ]
  },
  {
   "cell_type": "code",
   "execution_count": 2,
   "id": "b4be3cdd",
   "metadata": {},
   "outputs": [
    {
     "name": "stdout",
     "output_type": "stream",
     "text": [
      "I'm Jhon Roly\n"
     ]
    }
   ],
   "source": [
    "print(Quote)"
   ]
  },
  {
   "cell_type": "code",
   "execution_count": 4,
   "id": "d5865880",
   "metadata": {},
   "outputs": [
    {
     "name": "stdout",
     "output_type": "stream",
     "text": [
      "Ella dijo: 'Tengo hambre'\n"
     ]
    }
   ],
   "source": [
    "Frase = \"Ella dijo: 'Tengo hambre'\"\n",
    "print(Frase)"
   ]
  },
  {
   "cell_type": "code",
   "execution_count": 5,
   "id": "4276cfb6",
   "metadata": {},
   "outputs": [
    {
     "name": "stdout",
     "output_type": "stream",
     "text": [
      "¿Cuál es tu nombre?Jhon Roly\n",
      "¿Cuál es tu apellido?Ordoñez Leon\n",
      "Hola, mi nombre es Jhon Roly y mi apellido es Ordoñez Leon\n"
     ]
    }
   ],
   "source": [
    "# Format\n",
    "Nombre = input(\"¿Cuál es tu nombre?\")\n",
    "Apellido = input(\"¿Cuál es tu apellido?\")\n",
    "# Frase = \"Hola, mi nombre es\" + Nombre + \"y mi apellido es\" + Apellido\n",
    "Frase2 = \"Hola mi nombre es {} y mi apellido es {}\".format(Nombre,Apellido)\n",
    "Frase3 = f\"Hola, mi nombre es {Nombre} y mi apellido es {Apellido}\"\n",
    "print(Frase3)"
   ]
  },
  {
   "cell_type": "code",
   "execution_count": 9,
   "id": "3cba21a5",
   "metadata": {},
   "outputs": [],
   "source": [
    "# Ejercicio\n",
    "# Escribir los siguientes datos con input\n",
    "# Nombre\n",
    "# Apellido paterno\n",
    "# Edad\n",
    "# Hobby\n",
    "# Usar Format2 y format3\n",
    "# print\n"
   ]
  },
  {
   "cell_type": "code",
   "execution_count": 10,
   "id": "e1cfa9a5",
   "metadata": {},
   "outputs": [],
   "source": [
    "# CLASE 09-11-22\n",
    "# 1. REVISIÓN DE LAS BUENAS PRACTICAS EN PROGRAMACIÓN CON PYTHON\n",
    "# 2. DOCUMENTO DEL PEP8\n",
    "# 3. CONTINUACIÓN DE LOS TIPOS DE DATOS Y OPERADORES.\n",
    "# A. STRING\n",
    "# B. NUMEROS\n",
    "# C. BOOLEANOS\n",
    "# D. TRANSFORMACION DE TIPOS\n",
    "# E. OPERADORES ARITMETICOS\n",
    "# F. OPERADORES LOGICOS: AND Y OR\n",
    "# G. CONDICIONALES\n"
   ]
  },
  {
   "cell_type": "code",
   "execution_count": null,
   "id": "b6090784",
   "metadata": {},
   "outputs": [],
   "source": []
  }
 ],
 "metadata": {
  "kernelspec": {
   "display_name": "Python 3 (ipykernel)",
   "language": "python",
   "name": "python3"
  },
  "language_info": {
   "codemirror_mode": {
    "name": "ipython",
    "version": 3
   },
   "file_extension": ".py",
   "mimetype": "text/x-python",
   "name": "python",
   "nbconvert_exporter": "python",
   "pygments_lexer": "ipython3",
   "version": "3.10.8"
  }
 },
 "nbformat": 4,
 "nbformat_minor": 5
}
