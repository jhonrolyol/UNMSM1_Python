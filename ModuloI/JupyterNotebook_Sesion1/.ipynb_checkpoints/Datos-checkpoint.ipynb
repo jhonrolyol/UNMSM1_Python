{
 "cells": [
  {
   "cell_type": "code",
   "execution_count": null,
   "id": "b7f08afa",
   "metadata": {},
   "outputs": [],
   "source": [
    "int # Números enteros\n",
    "float # Números con decimal\n",
    "chr # Caracteres\n",
    "str # Cadena de caracteres (\" \")\n",
    "bool # True o False"
   ]
  },
  {
   "cell_type": "code",
   "execution_count": 1,
   "id": "e27b7fef",
   "metadata": {},
   "outputs": [
    {
     "name": "stdout",
     "output_type": "stream",
     "text": [
      "Mi nombre es:  Jhon Roly\n",
      "<class 'str'>\n"
     ]
    }
   ],
   "source": [
    "# type\n",
    "Nombre = \"Jhon Roly\"\n",
    "print(\"Mi nombre es: \", Nombre)\n",
    "print(type(Nombre))"
   ]
  },
  {
   "cell_type": "code",
   "execution_count": 4,
   "id": "37cb9580",
   "metadata": {},
   "outputs": [
    {
     "name": "stdout",
     "output_type": "stream",
     "text": [
      "Mi edad es:  27\n",
      "<class 'int'>\n"
     ]
    }
   ],
   "source": [
    "# int \n",
    "Edad = 27\n",
    "print(\"Mi edad es: \", Edad)\n",
    "print(type(Edad))"
   ]
  },
  {
   "cell_type": "code",
   "execution_count": 5,
   "id": "d187d3cb",
   "metadata": {},
   "outputs": [
    {
     "name": "stdout",
     "output_type": "stream",
     "text": [
      "Mi estatura es:  1.75\n",
      "<class 'float'>\n"
     ]
    }
   ],
   "source": [
    "# float\n",
    "Estatura = 1.75\n",
    "print(\"Mi estatura es: \", Estatura)\n",
    "print(type(Estatura))"
   ]
  }
 ],
 "metadata": {
  "kernelspec": {
   "display_name": "Python 3 (ipykernel)",
   "language": "python",
   "name": "python3"
  },
  "language_info": {
   "codemirror_mode": {
    "name": "ipython",
    "version": 3
   },
   "file_extension": ".py",
   "mimetype": "text/x-python",
   "name": "python",
   "nbconvert_exporter": "python",
   "pygments_lexer": "ipython3",
   "version": "3.10.8"
  }
 },
 "nbformat": 4,
 "nbformat_minor": 5
}
