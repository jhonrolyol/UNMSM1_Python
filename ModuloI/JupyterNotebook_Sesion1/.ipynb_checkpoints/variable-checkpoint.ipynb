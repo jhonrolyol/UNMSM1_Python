{
 "cells": [
  {
   "cell_type": "code",
   "execution_count": 1,
   "id": "13fee856",
   "metadata": {},
   "outputs": [
    {
     "name": "stdout",
     "output_type": "stream",
     "text": [
      "Mi nombre es Andres\n"
     ]
    }
   ],
   "source": [
    "Nombre = 'Andres'\n",
    "print(\"Mi nombre es\", Nombre)"
   ]
  },
  {
   "cell_type": "code",
   "execution_count": 3,
   "id": "3896eda3",
   "metadata": {},
   "outputs": [
    {
     "name": "stdout",
     "output_type": "stream",
     "text": [
      "¿Cuál es tu nombre?\n",
      "Jhon Roly\n",
      "Mi nombre es:  Jhon Roly\n"
     ]
    }
   ],
   "source": [
    "Nombre = input(\"¿Cuál es tu nombre?\\n\")\n",
    "print(\"Mi nombre es: \", Nombre)\n"
   ]
  },
  {
   "cell_type": "code",
   "execution_count": 4,
   "id": "fc372683",
   "metadata": {},
   "outputs": [
    {
     "name": "stdout",
     "output_type": "stream",
     "text": [
      "Mi edad es:  27\n"
     ]
    }
   ],
   "source": [
    "Edad = 27\n",
    "print(\"Mi edad es: \", Edad)\n"
   ]
  },
  {
   "cell_type": "code",
   "execution_count": null,
   "id": "024aac4f",
   "metadata": {},
   "outputs": [],
   "source": [
    "# Escribir los siguientes datos con input\n",
    "# Nombre\n",
    "# Apellido paterno\n",
    "# Edad\n",
    "# Hobby\n",
    "# Mi nombre apellido ... tengo ... años ... y mi hobby es ...\n",
    "\n",
    "# Texto1 = \"Mi nombre es \"\n",
    "# Texto2 = \"Tengo\"\n",
    "# Texto3 = \"años\"\n",
    "# Texto4 = \"y mi hobby es\"\n",
    "# Nombre = \"Cynthia\"\n",
    "# Edad = 40\n",
    "# Hobby = \"Cantar\"\n",
    "\n",
    "# print(Texto1, Nombre, Texto2, Edad, Texto3, Texto4, Hobby)"
   ]
  },
  {
   "cell_type": "code",
   "execution_count": 6,
   "id": "a731203d",
   "metadata": {},
   "outputs": [
    {
     "name": "stdout",
     "output_type": "stream",
     "text": [
      "¿Cuál es tu nombre?\n",
      "Jhon Roly\n",
      "¿Cuál es tu edad?\n",
      "27 años\n",
      "¿Cuál es tu hobby?\n",
      "jugar al fútbol\n",
      "Mi nombre es Jhon Roly y mi edad es 27 años y mi hobby es jugar al fútbol\n"
     ]
    }
   ],
   "source": [
    "Text1 = input(\"¿Cuál es tu nombre?\\n\")\n",
    "Text2 = input(\"¿Cuál es tu edad?\\n\")\n",
    "Text3 = input(\"¿Cuál es tu hobby?\\n\")\n",
    "\n",
    "print(\"Mi nombre es\",Text1, \"y mi edad es\",Text2,\"y mi hobby es\",Text3)"
   ]
  },
  {
   "cell_type": "code",
   "execution_count": null,
   "id": "265884f5",
   "metadata": {},
   "outputs": [],
   "source": []
  }
 ],
 "metadata": {
  "kernelspec": {
   "display_name": "Python 3 (ipykernel)",
   "language": "python",
   "name": "python3"
  },
  "language_info": {
   "codemirror_mode": {
    "name": "ipython",
    "version": 3
   },
   "file_extension": ".py",
   "mimetype": "text/x-python",
   "name": "python",
   "nbconvert_exporter": "python",
   "pygments_lexer": "ipython3",
   "version": "3.10.8"
  }
 },
 "nbformat": 4,
 "nbformat_minor": 5
}
