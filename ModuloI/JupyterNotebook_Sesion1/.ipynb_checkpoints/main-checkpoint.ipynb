{
 "cells": [
  {
   "cell_type": "code",
   "execution_count": 10,
   "id": "e474f15c",
   "metadata": {},
   "outputs": [],
   "source": [
    "# Esta función realiza la comparación de dos números para ver si son diferentes o iguales\n",
    "def is_different(Num1: int, Num2: int) -> bool:\n",
    "    return True if Num1 != Num2 else False"
   ]
  },
  {
   "cell_type": "code",
   "execution_count": 11,
   "id": "ce1be3d8",
   "metadata": {},
   "outputs": [
    {
     "name": "stdout",
     "output_type": "stream",
     "text": [
      "Ingresa un primer número: 3\n",
      "Ingresa un segundo número: 5\n"
     ]
    }
   ],
   "source": [
    "My_Num1 = float(input('Ingresa un primer número: '))\n",
    "My_Num2 = float(input('Ingresa un segundo número: '))"
   ]
  },
  {
   "cell_type": "code",
   "execution_count": 12,
   "id": "031f2c1e",
   "metadata": {},
   "outputs": [],
   "source": [
    "Result = is_different(My_Num1, My_Num2)\n",
    "# El resultado se mostrará como True o False y además el tipo de resultado."
   ]
  },
  {
   "cell_type": "code",
   "execution_count": 13,
   "id": "4514ab71",
   "metadata": {},
   "outputs": [
    {
     "name": "stdout",
     "output_type": "stream",
     "text": [
      "True\n"
     ]
    }
   ],
   "source": [
    "print(Result)"
   ]
  },
  {
   "cell_type": "code",
   "execution_count": 14,
   "id": "391d5196",
   "metadata": {},
   "outputs": [
    {
     "name": "stdout",
     "output_type": "stream",
     "text": [
      "<class 'bool'>\n"
     ]
    }
   ],
   "source": [
    "print(type(Result))"
   ]
  },
  {
   "cell_type": "code",
   "execution_count": null,
   "id": "4a627b13",
   "metadata": {},
   "outputs": [],
   "source": [
    "Nombre = 'Jhon Roly' # Esta variable indica el nombre.\n",
    "Edad = 17 # Esta variable indica la edad."
   ]
  }
 ],
 "metadata": {
  "kernelspec": {
   "display_name": "Python 3 (ipykernel)",
   "language": "python",
   "name": "python3"
  },
  "language_info": {
   "codemirror_mode": {
    "name": "ipython",
    "version": 3
   },
   "file_extension": ".py",
   "mimetype": "text/x-python",
   "name": "python",
   "nbconvert_exporter": "python",
   "pygments_lexer": "ipython3",
   "version": "3.10.8"
  }
 },
 "nbformat": 4,
 "nbformat_minor": 5
}
