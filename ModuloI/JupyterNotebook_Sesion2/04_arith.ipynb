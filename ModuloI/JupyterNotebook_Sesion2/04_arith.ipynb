{
 "cells": [
  {
   "cell_type": "code",
   "execution_count": null,
   "id": "316407a5",
   "metadata": {},
   "outputs": [],
   "source": [
    "# (+) Suma\n",
    "# (-) Resta\n",
    "# (*) Multiplicación\n",
    "# (/) División\n",
    "# (%) Modulo o Residuo\n",
    "# (//) Division con valor entero\n",
    "# (**) Exponenciación"
   ]
  },
  {
   "cell_type": "code",
   "execution_count": 1,
   "id": "09ddaff9",
   "metadata": {},
   "outputs": [
    {
     "name": "stdout",
     "output_type": "stream",
     "text": [
      "10\n",
      "4\n",
      "30\n",
      "3.3333333333333335\n",
      "1\n",
      "3\n",
      "8\n",
      "10.0\n",
      "1.0\n",
      "1.75\n"
     ]
    }
   ],
   "source": [
    "print(5 + 5)\n",
    "print(10 - 6)\n",
    "print(10 * 3)\n",
    "print(10 / 3)\n",
    "print(10 % 3)\n",
    "print(10 // 3)\n",
    "print(2 ** 3)\n",
    "print(2 ** 3 + 3 - 7 / 1 // 4)\n",
    "print(7 / 1 // 4)\n",
    "print(7 // 1 / 4)\n"
   ]
  },
  {
   "cell_type": "code",
   "execution_count": null,
   "id": "f4a21786",
   "metadata": {},
   "outputs": [],
   "source": []
  }
 ],
 "metadata": {
  "kernelspec": {
   "display_name": "Python 3 (ipykernel)",
   "language": "python",
   "name": "python3"
  },
  "language_info": {
   "codemirror_mode": {
    "name": "ipython",
    "version": 3
   },
   "file_extension": ".py",
   "mimetype": "text/x-python",
   "name": "python",
   "nbconvert_exporter": "python",
   "pygments_lexer": "ipython3",
   "version": "3.10.8"
  }
 },
 "nbformat": 4,
 "nbformat_minor": 5
}
