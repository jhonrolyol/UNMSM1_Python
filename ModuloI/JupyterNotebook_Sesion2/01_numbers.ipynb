{
 "cells": [
  {
   "cell_type": "code",
   "execution_count": 10,
   "id": "239f24e8",
   "metadata": {},
   "outputs": [
    {
     "name": "stdout",
     "output_type": "stream",
     "text": [
      "¿Cuántas vidas desea tener?3\n",
      "3\n",
      "2\n",
      "<class 'int'>\n",
      "1\n"
     ]
    }
   ],
   "source": [
    "Vidas = int(input(\"¿Cuántas vidas desea tener?\"))\n",
    "# Vidas = int(Vidas)\n",
    "print(Vidas)\n",
    "Vidas = Vidas - 1\n",
    "print(Vidas)\n",
    "print(type(Vidas))\n",
    "Vidas -= 1\n",
    "print(Vidas)\n"
   ]
  },
  {
   "cell_type": "code",
   "execution_count": null,
   "id": "30ee5812",
   "metadata": {},
   "outputs": [],
   "source": [
    "# Ejercicio \n",
    "# Hacer un programa que inserte valores de presupuestos de los 3\n",
    "# primeros meses del año (cada mes) y calcular el promedio de ellos:\n",
    "# Utilizar variables y operaciones."
   ]
  },
  {
   "cell_type": "code",
   "execution_count": 6,
   "id": "b9fd47e5",
   "metadata": {},
   "outputs": [
    {
     "name": "stdout",
     "output_type": "stream",
     "text": [
      "¿Ingrese importe para el mes de enero?100\n",
      "¿Ingrese importe para el mes de febrero?200\n",
      "¿Ingrese importe para el mes de marzo?300\n",
      "El promedio de ventas de enero, febrero y marzo es: 200.0\n"
     ]
    }
   ],
   "source": [
    "Mes_1 = float(input(\"¿Ingrese importe para el mes de enero?\"))\n",
    "Mes_2 = float(input(\"¿Ingrese importe para el mes de febrero?\"))\n",
    "Mes_3 = float(input(\"¿Ingrese importe para el mes de marzo?\"))\n",
    "Promedio = (Mes_1 + Mes_2 + Mes_3)/3\n",
    "Resultado = f\"El promedio de ventas de enero, febrero y marzo es: {Promedio}\"\n",
    "print(Resultado)"
   ]
  },
  {
   "cell_type": "code",
   "execution_count": 8,
   "id": "da4b3f50",
   "metadata": {},
   "outputs": [
    {
     "name": "stdout",
     "output_type": "stream",
     "text": [
      "Ingresar el presupuesto de enero100\n",
      "Ingresar el presupuesto de febrero200\n",
      "Ingresar el presupuesto de marzo300\n",
      "600.0\n",
      "200\n"
     ]
    }
   ],
   "source": [
    "Ene = float(input('Ingresar el presupuesto de enero'))\n",
    "Feb = float(input('Ingresar el presupuesto de febrero'))\n",
    "Mar = float(input('Ingresar el presupuesto de marzo'))\n",
    "Suma = Ene + Feb + Mar\n",
    "print(Suma)\n",
    "Promedio = format((Suma)/3,\"2g\")\n",
    "#Promedio = Suma/3\n",
    "print(Promedio)"
   ]
  },
  {
   "cell_type": "code",
   "execution_count": 26,
   "id": "9100a7a0",
   "metadata": {},
   "outputs": [
    {
     "name": "stdout",
     "output_type": "stream",
     "text": [
      "12\n"
     ]
    }
   ],
   "source": [
    "ab = format(12.3456789, \".2g\")\n",
    "print(ab)"
   ]
  },
  {
   "cell_type": "code",
   "execution_count": null,
   "id": "47c08acf",
   "metadata": {},
   "outputs": [],
   "source": []
  },
  {
   "cell_type": "code",
   "execution_count": null,
   "id": "247ea5c8",
   "metadata": {},
   "outputs": [],
   "source": []
  }
 ],
 "metadata": {
  "kernelspec": {
   "display_name": "Python 3 (ipykernel)",
   "language": "python",
   "name": "python3"
  },
  "language_info": {
   "codemirror_mode": {
    "name": "ipython",
    "version": 3
   },
   "file_extension": ".py",
   "mimetype": "text/x-python",
   "name": "python",
   "nbconvert_exporter": "python",
   "pygments_lexer": "ipython3",
   "version": "3.10.8"
  }
 },
 "nbformat": 4,
 "nbformat_minor": 5
}
