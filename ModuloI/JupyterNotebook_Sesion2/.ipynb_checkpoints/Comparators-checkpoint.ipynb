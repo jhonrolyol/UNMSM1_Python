{
 "cells": [
  {
   "cell_type": "code",
   "execution_count": 1,
   "id": "47938c1b",
   "metadata": {},
   "outputs": [
    {
     "name": "stdout",
     "output_type": "stream",
     "text": [
      "True\n",
      "False\n",
      "False\n"
     ]
    }
   ],
   "source": [
    "# > mayor que\n",
    "print(8 > 4)\n",
    "print(4 > 8)\n",
    "print(8 > 8)"
   ]
  },
  {
   "cell_type": "code",
   "execution_count": 2,
   "id": "ba2b6a4f",
   "metadata": {},
   "outputs": [
    {
     "name": "stdout",
     "output_type": "stream",
     "text": [
      "False\n",
      "True\n",
      "False\n"
     ]
    }
   ],
   "source": [
    "# < menor que\n",
    "print(8 < 4)\n",
    "print(4 < 8)\n",
    "print(8 < 8)"
   ]
  },
  {
   "cell_type": "code",
   "execution_count": 3,
   "id": "c91ccf0a",
   "metadata": {},
   "outputs": [
    {
     "name": "stdout",
     "output_type": "stream",
     "text": [
      "True\n",
      "False\n",
      "True\n"
     ]
    }
   ],
   "source": [
    "# >=\n",
    "print(8 >= 4)\n",
    "print(4 >= 8)\n",
    "print(8 >= 8)"
   ]
  },
  {
   "cell_type": "code",
   "execution_count": 4,
   "id": "3a27683c",
   "metadata": {},
   "outputs": [
    {
     "name": "stdout",
     "output_type": "stream",
     "text": [
      "False\n",
      "True\n",
      "True\n"
     ]
    }
   ],
   "source": [
    "# <=\n",
    "print(8 <= 4)\n",
    "print(4 <= 8)\n",
    "print(8 <= 8)"
   ]
  },
  {
   "cell_type": "code",
   "execution_count": 5,
   "id": "8d9e0bcc",
   "metadata": {},
   "outputs": [
    {
     "name": "stdout",
     "output_type": "stream",
     "text": [
      "False\n"
     ]
    }
   ],
   "source": [
    "# ==\n",
    "print(5 == 2)"
   ]
  },
  {
   "cell_type": "code",
   "execution_count": 6,
   "id": "c07b0280",
   "metadata": {},
   "outputs": [
    {
     "name": "stdout",
     "output_type": "stream",
     "text": [
      "True\n",
      "False\n",
      "True\n",
      "False\n"
     ]
    }
   ],
   "source": [
    "#!=\n",
    "print(5 != 2)\n",
    "\n",
    "print(\"Juan\" == 'juan')\n",
    "print(\"Juan\" == 'Juan')\n",
    "print(\"1\" == 1)"
   ]
  },
  {
   "cell_type": "code",
   "execution_count": 7,
   "id": "562f6f84",
   "metadata": {},
   "outputs": [
    {
     "name": "stdout",
     "output_type": "stream",
     "text": [
      "True\n",
      "True\n",
      "False\n"
     ]
    }
   ],
   "source": [
    "edad = 35\n",
    "print(edad >= 20)\n",
    "\n",
    "print(5 != 2)\n",
    "print(5.2 != 5.2)"
   ]
  },
  {
   "cell_type": "code",
   "execution_count": null,
   "id": "ca5006a7",
   "metadata": {},
   "outputs": [],
   "source": []
  }
 ],
 "metadata": {
  "kernelspec": {
   "display_name": "Python 3 (ipykernel)",
   "language": "python",
   "name": "python3"
  },
  "language_info": {
   "codemirror_mode": {
    "name": "ipython",
    "version": 3
   },
   "file_extension": ".py",
   "mimetype": "text/x-python",
   "name": "python",
   "nbconvert_exporter": "python",
   "pygments_lexer": "ipython3",
   "version": "3.10.8"
  }
 },
 "nbformat": 4,
 "nbformat_minor": 5
}
