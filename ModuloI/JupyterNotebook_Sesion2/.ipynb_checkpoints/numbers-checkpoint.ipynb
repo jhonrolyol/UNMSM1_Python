{
 "cells": [
  {
   "cell_type": "code",
   "execution_count": 2,
   "id": "c2449bfa",
   "metadata": {},
   "outputs": [
    {
     "name": "stdout",
     "output_type": "stream",
     "text": [
      "3\n",
      "<class 'int'>\n"
     ]
    }
   ],
   "source": [
    "Vidas = 3\n",
    "print(Vidas)\n",
    "print(type(Vidas)"
   ]
  },
  {
   "cell_type": "code",
   "execution_count": 5,
   "id": "a639a12e",
   "metadata": {},
   "outputs": [
    {
     "name": "stdout",
     "output_type": "stream",
     "text": [
      "0\n",
      "<class 'int'>\n"
     ]
    }
   ],
   "source": [
    "Vidas = Vidas - 1\n",
    "print(Vidas)\n",
    "print(type(Vidas))"
   ]
  },
  {
   "cell_type": "code",
   "execution_count": null,
   "id": "bfd0da41",
   "metadata": {},
   "outputs": [],
   "source": []
  },
  {
   "cell_type": "code",
   "execution_count": null,
   "id": "144a66ad",
   "metadata": {},
   "outputs": [],
   "source": [
    "Vidas = input(\"¿Cuántas vidas desea tener?\")\n",
    "# Vidas = int(Vidas)\n",
    "print(Vidas)\n",
    "Vidas = Vidas - 1\n",
    "print(Vidas)\n",
    "print(type(Vidas))\n"
   ]
  },
  {
   "cell_type": "code",
   "execution_count": null,
   "id": "bd64afcd",
   "metadata": {},
   "outputs": [],
   "source": []
  }
 ],
 "metadata": {
  "kernelspec": {
   "display_name": "Python 3 (ipykernel)",
   "language": "python",
   "name": "python3"
  },
  "language_info": {
   "codemirror_mode": {
    "name": "ipython",
    "version": 3
   },
   "file_extension": ".py",
   "mimetype": "text/x-python",
   "name": "python",
   "nbconvert_exporter": "python",
   "pygments_lexer": "ipython3",
   "version": "3.10.8"
  }
 },
 "nbformat": 4,
 "nbformat_minor": 5
}
